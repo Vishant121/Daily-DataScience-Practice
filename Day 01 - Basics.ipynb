{
 "cells": [
  {
   "cell_type": "markdown",
   "id": "fc3dcd69-54c9-4427-aa2a-7386c118c0f5",
   "metadata": {},
   "source": [
    "# Day 01 – Basics"
   ]
  },
  {
   "cell_type": "markdown",
   "id": "6822e9ce-ccda-4261-b284-993184524ba3",
   "metadata": {},
   "source": [
    "---"
   ]
  },
  {
   "cell_type": "markdown",
   "id": "fe5a9b7d-1af6-4acd-a25f-bfd38558a814",
   "metadata": {},
   "source": [
    "## ◙ Topics Covered\n",
    "- List \n",
    "- Tuple\n",
    "- Sets\n",
    "- Dictionary"
   ]
  },
  {
   "cell_type": "markdown",
   "id": "6a3c4db9-682f-486b-b7ac-0df82888595f",
   "metadata": {},
   "source": [
    "---"
   ]
  },
  {
   "cell_type": "markdown",
   "id": "083ff023-47ac-4a28-aff8-664a7184d625",
   "metadata": {},
   "source": [
    "## ‣ Problem 1: Real-World Everyday-Use Problem (Lists & Strings)\n",
    "\n",
    "**Problem Statement:**\n",
    "You're developing a user-friendly text editor that formats names in a proper title case format. Given a string with multiple words (separated by spaces), return a new string where each word starts with an uppercase letter and the rest are in lowercase"
   ]
  },
  {
   "cell_type": "markdown",
   "id": "20b803de-bbab-4384-9621-be65e78528cf",
   "metadata": {},
   "source": [
    "**Input ➤**"
   ]
  },
  {
   "cell_type": "markdown",
   "id": "ef8ded99-e10c-4afd-abd2-acf8567d34f9",
   "metadata": {},
   "source": [
    "A string, e.g., \"hello world from vishant\""
   ]
  },
  {
   "cell_type": "markdown",
   "id": "49c29aef-0446-4397-a825-dc4fc111cffb",
   "metadata": {},
   "source": [
    "**Output ➤**"
   ]
  },
  {
   "cell_type": "markdown",
   "id": "79170180-1b76-4fca-95e7-254602d95c4a",
   "metadata": {},
   "source": [
    "A string, e.g., \"Hello World From Vishant\""
   ]
  },
  {
   "cell_type": "markdown",
   "id": "909e3d67-2fc1-493a-bf9c-cf29942a250e",
   "metadata": {},
   "source": [
    "**Code ➤**"
   ]
  },
  {
   "cell_type": "code",
   "execution_count": 3,
   "id": "529d9920-7712-4535-b9ef-dbdcd450d857",
   "metadata": {},
   "outputs": [
    {
     "name": "stdout",
     "output_type": "stream",
     "text": [
      "Hello World From Vishant\n"
     ]
    }
   ],
   "source": [
    "def to_title_case(text):\n",
    "    # Split the string into words\n",
    "    words = text.split()\n",
    "    \n",
    "    # Capitalize the first letter of each word and make rest lowercase\n",
    "    title_cased = [word.capitalize() for word in words]\n",
    "    \n",
    "    # Join the words back into a single string\n",
    "    return ' '.join(title_cased)\n",
    "\n",
    "# Example usage\n",
    "input_string = \"hello world from vishant\"\n",
    "output_string = to_title_case(input_string)\n",
    "print(output_string)  # Output: Hello World From Vishant\n"
   ]
  },
  {
   "cell_type": "markdown",
   "id": "805a5501-44a6-44b0-82c6-19ca0ba919be",
   "metadata": {},
   "source": [
    "---"
   ]
  },
  {
   "cell_type": "markdown",
   "id": "b0584e14-6677-46cb-8f7d-5a968db04efb",
   "metadata": {},
   "source": [
    "## ‣ Problem 2: Difficult Problem (Dictionaries & Sets)\n",
    "\n",
    "**Problem Statement:**\n",
    "You’re working with survey data where each person selects multiple favorite fruits. This data is stored in a dictionary where keys are person names and values are lists of selected fruits. Write a function that returns the list of fruits liked by everyone (i.e., common to all people) and also the list of all unique fruits selected by anyone."
   ]
  },
  {
   "cell_type": "markdown",
   "id": "a9d21715-eed5-4079-b9a6-a3e240da1b98",
   "metadata": {},
   "source": [
    "**Input ➤**"
   ]
  },
  {
   "cell_type": "markdown",
   "id": "53f3307e-fb12-42b2-a616-8cfdd61f83a1",
   "metadata": {},
   "source": [
    "{\n",
    "  \"Vishant\": [\"Apple\", \"Banana\", \"Mango\"],\n",
    "  \"Manpreet\": [\"Banana\", \"Apple\", \"Orange\"],\n",
    "  \"Pramod\": [\"Apple\", \"Banana\", \"Guava\"]\n",
    "}"
   ]
  },
  {
   "cell_type": "markdown",
   "id": "67a1f4f2-8579-4831-adf1-c71562b10d60",
   "metadata": {},
   "source": [
    "**Output ➤**"
   ]
  },
  {
   "cell_type": "markdown",
   "id": "b990ec4c-0763-436b-8d40-7394cfc61d61",
   "metadata": {},
   "source": [
    "Common fruits: ['Apple', 'Banana']\n",
    "\n",
    "All unique fruits: ['Apple', 'Banana', 'Mango', 'Orange', 'Guava']\n"
   ]
  },
  {
   "cell_type": "markdown",
   "id": "188e321a-662f-42eb-8fde-05a168f255dc",
   "metadata": {},
   "source": [
    "**Code ➤**"
   ]
  },
  {
   "cell_type": "code",
   "execution_count": 4,
   "id": "f1fcf0ee-4f00-469f-83b7-bab3a23be2e9",
   "metadata": {},
   "outputs": [
    {
     "name": "stdout",
     "output_type": "stream",
     "text": [
      "Common fruits: ['Apple', 'Banana']\n",
      "All unique fruits: ['Apple', 'Banana', 'Guava', 'Mango', 'Orange']\n"
     ]
    }
   ],
   "source": [
    "def analyze_fruit_preferences(survey_data):\n",
    "    # Convert each list of fruits into a set\n",
    "    fruit_sets = [set(fruits) for fruits in survey_data.values()]\n",
    "    \n",
    "    # Find common fruits (intersection of all sets)\n",
    "    common_fruits = set.intersection(*fruit_sets)\n",
    "    \n",
    "    # Find all unique fruits (union of all sets)\n",
    "    all_unique_fruits = set.union(*fruit_sets)\n",
    "    \n",
    "    # Return results as sorted lists\n",
    "    return sorted(list(common_fruits)), sorted(list(all_unique_fruits))\n",
    "\n",
    "# Example input\n",
    "data = {\n",
    "    \"Vishant\": [\"Apple\", \"Banana\", \"Mango\"],\n",
    "    \"Manpreet\": [\"Banana\", \"Apple\", \"Orange\"],\n",
    "    \"Pramod\": [\"Apple\", \"Banana\", \"Guava\"]\n",
    "}\n",
    "\n",
    "# Get output\n",
    "common, unique = analyze_fruit_preferences(data)\n",
    "\n",
    "# Print results\n",
    "print(\"Common fruits:\", common)\n",
    "print(\"All unique fruits:\", unique)\n"
   ]
  },
  {
   "cell_type": "markdown",
   "id": "1d35e15a-4b24-4c6a-9fcc-2dfd4e789c41",
   "metadata": {},
   "source": [
    "---"
   ]
  }
 ],
 "metadata": {
  "kernelspec": {
   "display_name": "Python 3 (ipykernel)",
   "language": "python",
   "name": "python3"
  },
  "language_info": {
   "codemirror_mode": {
    "name": "ipython",
    "version": 3
   },
   "file_extension": ".py",
   "mimetype": "text/x-python",
   "name": "python",
   "nbconvert_exporter": "python",
   "pygments_lexer": "ipython3",
   "version": "3.12.4"
  }
 },
 "nbformat": 4,
 "nbformat_minor": 5
}
